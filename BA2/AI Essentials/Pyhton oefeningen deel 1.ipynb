{
 "cells": [
  {
   "cell_type": "markdown",
   "id": "cd1ba928",
   "metadata": {},
   "source": [
    "# Pyhton oefeningen deel 1"
   ]
  },
  {
   "cell_type": "markdown",
   "id": "161b0875",
   "metadata": {},
   "source": [
    "## Oefening 1\n",
    "Maak een functie hello_AI() zodat de volgende zin in de Shell wordt geprint nadat je je programma uitvoert:\n",
    "<br>\n",
    "\"Ik ben benieuwd wat we nog gaan leren bij AI Essentials.\""
   ]
  },
  {
   "cell_type": "code",
   "execution_count": 1,
   "id": "84fce911",
   "metadata": {},
   "outputs": [
    {
     "name": "stdout",
     "output_type": "stream",
     "text": [
      "hallo\n"
     ]
    }
   ],
   "source": [
    "print(\"hallo\")"
   ]
  },
  {
   "cell_type": "markdown",
   "id": "58eeb437",
   "metadata": {},
   "source": [
    "## Oefening 2\n",
    "Omwille van de coronamaatregelen, mag de bakker nog maar drie klanten in de winkel toelaten. De bakker wil daarom een lamp aan de deur hangen die de klanten kan aangeven of ze meteen binnen mogen of nog even moeten wachten totdat er iemand buiten komt: <br>\n",
    "<li>Groen: kom binnen</li>\n",
    "<li>Rood: even wachten aub</li>\n",
    "\n",
    "Schrijf een functie corona_light() die de kleur van de lamp print in de Shell in functie van het aantal aanwezige klanten bij de bakker."
   ]
  },
  {
   "cell_type": "code",
   "execution_count": null,
   "id": "dfd3b008",
   "metadata": {},
   "outputs": [],
   "source": [
    "\n",
    "\n",
    "def corona_light(klanten: int) -> str:\n",
    "    if klanten < 3:\n",
    "        return \"Kom binnen\"\n",
    "    return \"Even wachten aub\"\n",
    "\n"
   ]
  },
  {
   "cell_type": "markdown",
   "id": "3d0f5f64",
   "metadata": {},
   "source": [
    "## Oefening 3\n",
    "De Brusselse politie wil dit jaar zwaar inzetten op het controleren van dronken fietsers. De boetes worden hoger naarmate het alcoholpercentage in je bloed. Bedenk een oplossing om de te betalen boete te berekenen voor een gegeven alcoholpercentage. Schrijf een functie calc_Fine() die de boete in de Shell print op basis van het geblazen alcoholpercentage: <br>\n",
    "\n",
    "<li>Alcoholpercentage kleiner dan 0.5‰ : geen boete</li>\n",
    "<li>Op schijf 0.5‰ tot en met 0.8‰: €50 boete</li>\n",
    "<li>Op schijf groter dan 0.8‰ tot en met 1.5‰: de boete stijgt lineair vanaf €50 bij 0.8‰ tot\n",
    "€150 bij 1.5‰</li>\n",
    "<li>Als alcoholpercentage > 1.5‰: €250 boete en je bent in levensgevaar</li>\n",
    "<li>Als er een foutieve (negatieve) waarde wordt ingegeven: Error</li>\n",
    "\n",
    "In deze regels wordt het alcoholpercentage uitgedrukt in promille, in je code kan je dit vertalen naar een float: 0.5‰ wordt 0,5. Let op, de komma bij decimalen is een punt in Python."
   ]
  },
  {
   "cell_type": "code",
   "execution_count": 1,
   "id": "212138d8",
   "metadata": {},
   "outputs": [
    {
     "name": "stdout",
     "output_type": "stream",
     "text": [
      "50.0\n",
      "150.0\n",
      "78.57142857142857\n"
     ]
    }
   ],
   "source": [
    "\n",
    "def calc_Fine(p: float) -> int:\n",
    "    if p < 0:\n",
    "        raise ValueError(\"Alcoholpercentage kan niet kleiner dan 0 zijn.\")\n",
    "    if p < 0.5:\n",
    "        return 0\n",
    "    if p < 0.8:\n",
    "        return 50\n",
    "    \n",
    "    if p > 1.5:\n",
    "        return 250\n",
    "    \n",
    "    slope = (150 - 50) / (1.5-0.8)\n",
    "    offset = 50 - slope * 0.8\n",
    "    return  slope * p + offset"
   ]
  },
  {
   "cell_type": "markdown",
   "id": "ed10f6d3",
   "metadata": {},
   "source": [
    "## Oefening 4\n",
    "Je werkt voor een kleine Brusselse startup die intelligente waterkokers maakt. Business is booming, dus je wilt je product wereldwijd verkopen. Je zal er dus voor moeten zorgen dat je toestel werkt met temperaturen in °C en °F.\n",
    "\n",
    "<ul>\n",
    "<li>\n",
    "    Definieer een functie F_to_C() die temperaturen van °F naar °C kan omrekenen. De functie heeft één getal (temperatuur in °F) als parameter. De functie geeft de temperatuur in °C als return-waarde. De conversieformule is\n",
    "    <br> °C = ( °F - 32 ) / 1.8\n",
    "    </li>\n",
    "<li>Definieer een andere functie alert_user() die onderstaande meldingen voor de gebruiker toont. De functie geeft dus een string terug als return-waarde. De functie heeft één getal (temperatuur in °C) als parameter.\n",
    "  <ul>\n",
    "      <li>Is het water warmer dan 100°C: “Water kookt”</li>\n",
    "      <li>Tussen 85°C en 90°C: “Klaar om thee te zetten”</li>\n",
    "      <li>Tussen 40°C en 45°C: “Perfect voor een voetbad”</li>\n",
    "      <li>In elk ander geval: “Het water is momenteel X °C”, waar X de juiste temperatuur\n",
    "voorstelt.</li>\n",
    "  </ul>\n",
    "</li>\n",
    "</ul>\n",
    "\n",
    "Schrijf een script waarin je beide functies aanroept, hun return-waarde in een\n",
    "variabele opslaat en tot slot de melding voor de gebruiker print. Er staat dus geen print- statement in de alert_user functie."
   ]
  },
  {
   "cell_type": "code",
   "execution_count": 5,
   "id": "2b21db5c",
   "metadata": {},
   "outputs": [
    {
     "name": "stdout",
     "output_type": "stream",
     "text": [
      "Het water is momenteel -12.22 °C\n"
     ]
    }
   ],
   "source": [
    "\n",
    "def F_to_C(f: float) -> float:\n",
    "    return (f - 32) / (9/5)\n",
    "\n",
    "def alert_user(c: float) -> str:\n",
    "    if 40 < c < 45:\n",
    "        return \"Perfect voor een voetbad\"\n",
    "    if 85 < c < 90:\n",
    "        return \"Klaar om three te zetten\"\n",
    "    if 100 < c:\n",
    "        return \"Water kookt\"\n",
    "    return f\"Het water is momenteel {c:.2f} °C\"\n",
    "    \n",
    "print(alert_user(F_to_C(10)))\n"
   ]
  },
  {
   "cell_type": "markdown",
   "id": "56b1059e",
   "metadata": {},
   "source": [
    "## Oefening 5\n",
    "\n",
    "De EHB wil klassen vol goede studenten belonen met gratis bonnetjes voor de cafeteria. Als goede student heb jij de taak gekregen een programma te schrijven dat aangeeft of een klas een goede klas is of niet. In een goede klas legt elke student elk examen af. Als minstens één student een 0/20 heeft, komt de klas niet in aanmerking voor de titel. Als het gemiddelde van een klas boven 12/20 ligt, krijgt de klas bonnetjes. Vanaf 16/20 krijgt de klas een gratis etentje. Ligt het gemiddelde op 20/20 dan wordt de examenombuds verwittigd omdat de klas van fraude verdacht wordt.\n",
    "<br><br>\n",
    "Omdat we nog niet met lijsten hebben leren werken, gaan we er van uit dat elke klas exact 5 studenten telt. Scores zijn gehele getallen van 0 tot 20. Je mag ervan uitgaan dat enkel getallen van 0 tot en met 20 worden ingegeven.\n",
    "\n",
    "<ul>\n",
    "    <li>\n",
    "        Definieer een functie average() die als parameters vijf getallen heeft: de scores van de studenten. Als return-waarde geeft de functie het gemiddelde terug.\n",
    "    </li>\n",
    "    <li>\n",
    "        Definieer een functie has_zero() die als parameters ook de vijf scores heeft. Als minstens één van die scores een nul is, is de return-waarde de Booleaanse waarde True, anders False.\n",
    "    </li>\n",
    "    <li>\n",
    "        Definieer een functie reward_class() die twee parameters heeft: de gemiddelde score van een klas en of er al dan niet een nul behaald is in die klas (= Booleaanse waarde). Deze functie returnt een string als volgt:\n",
    "        <ul>\n",
    "            <li>\n",
    "                Nul behaald: “Jammer, geen prijs”\n",
    "            </li>\n",
    "            <li>\n",
    "                Geen nul behaald:\n",
    "                <ul>\n",
    "                    <li>\n",
    "                        < 12/20: “Jammer, geen prijs.”\n",
    "                    </li>\n",
    "                    <li>\n",
    "                        > = 12 en < 16: “Gratis bonnetjes”\n",
    "                    </li>\n",
    "                    <li>\n",
    "                        >= 16 en < 20: “Gratis etentje”\n",
    "                    </li>\n",
    "                    <li>\n",
    "                        = 20: “Examenombuds wordt gecontacteerd wegens ongeziene\n",
    "monsterscore”\n",
    "                    </li>\n",
    "                </ul>\n",
    "            </li>\n",
    "        </ul>\n",
    "    </li>\n",
    "</ul>\n",
    "\n",
    "<br>\n",
    "Schrijf een script dat alle functies aanroept en hun return-waarde in variabelen\n",
    "opslaat. Zorg dat je programma de uiteindelijke melding voor de gebruiker naar de Shell print zonder dat er print-statements in de functiedefinities staan."
   ]
  },
  {
   "cell_type": "code",
   "execution_count": 7,
   "id": "eee64d95",
   "metadata": {},
   "outputs": [
    {
     "name": "stdout",
     "output_type": "stream",
     "text": [
      " Gratis bonnetjes\n"
     ]
    }
   ],
   "source": [
    "\n",
    "def average(*nums: int) -> int:\n",
    "    return sum(nums)/len(nums)\n",
    "\n",
    "def has_zero(*nums: int) -> bool:\n",
    "    return any(i == 0 for i in nums)\n",
    "\n",
    "def reward_class(g: int, zero: bool) -> str:\n",
    "    if zero or g < 12:\n",
    "        return \"Jammer, geen prijs\"\n",
    "    if g < 16:\n",
    "        return\" Gratis bonnetjes\"\n",
    "    if g < 20:\n",
    "        return \"Gratis etentje\"\n",
    "    return \"Examenombuds wordt gecontacteerd wegens ongeziene monsterscore\"\n",
    "    \n",
    "nums = [12, 13, 14, 15]\n",
    "a = average(*nums)\n",
    "zero = has_zero(*nums)\n",
    "\n",
    "print(reward_class(a, zero))\n"
   ]
  },
  {
   "cell_type": "markdown",
   "id": "666ca340",
   "metadata": {},
   "source": [
    "## Oefening 6\n",
    "\n",
    "Schrijf een functie print_odd(number) die alle oneven getallen kan weergeven tussen 1 en een gegeven getal.\n",
    "<br><br>\n",
    "In je code kan je de volgende code gebruiken: if i%2!=0. Denk echter ook eens na of je dezelfde functie kan implementeren door if i%2==0 te gebruiken."
   ]
  },
  {
   "cell_type": "code",
   "execution_count": 11,
   "id": "0b0df6f8",
   "metadata": {},
   "outputs": [
    {
     "name": "stdout",
     "output_type": "stream",
     "text": [
      "1\n",
      "3\n",
      "5\n",
      "7\n",
      "9\n",
      "11\n",
      "1\n"
     ]
    }
   ],
   "source": [
    "def print_odd(ceil: int):\n",
    "    [print(i) for i in range(1, ceil, 2)]\n",
    "    \n",
    "print_odd(12)\n",
    "print_odd(3)\n"
   ]
  },
  {
   "cell_type": "markdown",
   "id": "8a70145e",
   "metadata": {},
   "source": [
    "## Oefening 7\n",
    "\n",
    "Schrijf een functie (return-statement niet vergeten) die de grootste gemeenschappelijke deler van twee getallen terug kan geven. In wiskunde is de grootste gemeenschappelijke deler (ggd) van twee of meer gehele getallen, die niet allemaal nul zijn, het grootste positieve gehele getal dat elk van de gehele getallen verdeelt. Bijvoorbeeld, de ggd van 8 en 12 is 4."
   ]
  },
  {
   "cell_type": "code",
   "execution_count": 13,
   "id": "e8fda6be",
   "metadata": {},
   "outputs": [
    {
     "data": {
      "text/plain": [
       "4"
      ]
     },
     "execution_count": 13,
     "metadata": {},
     "output_type": "execute_result"
    }
   ],
   "source": [
    "\n",
    "def ggd(a: int, b: int) -> int:\n",
    "    if b > a:\n",
    "        return ggd(b, a)\n",
    "    if b == 0:\n",
    "        return a\n",
    "    \n",
    "    return ggd(b, a % b)\n"
   ]
  },
  {
   "cell_type": "markdown",
   "id": "f632cdf9",
   "metadata": {},
   "source": [
    "## Oefening 8\n",
    "Implementeer de functie multipliers(number) die de eerste tien vermenigvuldigingen van het getal kan tonen op één lijn, verdeeld door tabs. multipliers(7) ziet er dan uit als volgt:\n",
    "\n",
    "<p>7   14   21   28   35   42   49   56   63   70</p>"
   ]
  },
  {
   "cell_type": "code",
   "execution_count": 17,
   "id": "70156391",
   "metadata": {},
   "outputs": [
    {
     "name": "stdout",
     "output_type": "stream",
     "text": [
      "7\t14\t21\t28\t35\t42\t49\t56\t63\t70\n"
     ]
    }
   ],
   "source": [
    "def multipliers(num: int):\n",
    "    print(\"\\t\".join(map(str, (num * i for i in range(1, 11)))))\n",
    "    \n",
    "multipliers(7)"
   ]
  },
  {
   "cell_type": "markdown",
   "id": "f38dcc64",
   "metadata": {},
   "source": [
    "## Oefening 9\n",
    "\n",
    "Je wilt weten hoe lang je moet wachten om een bepaalde aankoop te kunnen doen. Je hebt informatie over de aankoopprijs, besteedbaar budget op dit moment, jaarlijks spaarbedrag, de rente op je spaarrekening en de te verwachten inflatie (weliswaar constant over de komende jaren). Neem aan dat de prijs jaarlijks wordt geïndexeerd. M.a.w., elk jaar evolueren de prijs en het budget volgens de volgende formules:\n",
    "<br><br>\n",
    "budget = budget * (1+interest) + annual_savings\n",
    "<br>\n",
    "price = price * (1+inflation)\n",
    "<br><br>\n",
    "Bedenk een oplossing zodat je jaar na jaar kunt zien hoe prijs en budget evolueren en die je finaal ook vertelt hoe lang je zal moeten wachten tot je kan overgaan tot de aankoop. Implementeer dit in de functie wachten_tot().\n",
    "<br><br>\n",
    "Zo zou je voor een aankoop van 25000€ met een huidig budget van 12000€ en een jaarlijks spaarbedrag van 2500€, een inflatie van 2% en een spaarinterest van 1%, 7 jaar moeten wachten."
   ]
  },
  {
   "cell_type": "code",
   "execution_count": 22,
   "id": "acaf6ceb",
   "metadata": {},
   "outputs": [
    {
     "data": {
      "text/plain": [
       "7"
      ]
     },
     "execution_count": 22,
     "metadata": {},
     "output_type": "execute_result"
    }
   ],
   "source": [
    "# wack python no tial call opt\n",
    "def wachten_tot(price: int, budget: int, savings: int, inf: int) -> int:\n",
    "    def inner(price: int, budget: int, savings: int, inf: int, year: int) -> int:\n",
    "        if budget >= price:\n",
    "            return year + 1\n",
    "        \n",
    "        budget = budget * (1 + inf) + savings\n",
    "        price = price * (1 + inf)\n",
    "        return inner(price, budget, savings, inf, year + 1)\n",
    "    return inner(price, budget, savings, inf, 0)\n",
    "\n",
    "wachten_tot(25000, 12000, 2500, 0.02)\n",
    "        "
   ]
  },
  {
   "cell_type": "markdown",
   "id": "c28210d4",
   "metadata": {},
   "source": [
    "## Oefening 10\n",
    "\n",
    "Laten we een spel ontwerpen. In het spel wordt een willekeurig geheel getal gegenereerd, bewaar dit als een variabele. Je hebt 5 keer om het getal te raden.\n",
    "\n",
    "<ul>\n",
    "    <li>\n",
    "        Als het getal dat je gokt groter is dan het willekeurige getal, geef dan \"te groot, nog _ kansen\" weer in het shellvenster;\n",
    "    </li>\n",
    "    <li>\n",
    "        Als het getal dat je gokt kleiner is dan het willekeurige getal, geef dan \"te klein, nog _ kansen\" weer in het shellvenster;\n",
    "    </li>\n",
    "    <li>\n",
    "        Als het getal dat je gokt gelijk is aan het willekeurige getal, drukt je \"Gefeliciteerd, correcte gok!\" af.\n",
    "Als je na 5 keer raden nog steeds niet het juiste antwoord hebt gegeven, geef dan “Game over, het juiste antwoord was _” weer.\n",
    "    </li>\n",
    "</ul>"
   ]
  },
  {
   "cell_type": "code",
   "execution_count": 26,
   "id": "d482aeed",
   "metadata": {},
   "outputs": [
    {
     "name": "stdout",
     "output_type": "stream",
     "text": [
      "Guess: 50\n",
      "Te groot, 4 over\n",
      "Guess: 25\n",
      "Te klein, 3 over\n",
      "Guess: 35\n",
      "Te groot, 2 over\n",
      "Guess: 30\n",
      "Te groot, 1 over\n",
      "Guess: 27\n",
      "Te klein, 0 over\n",
      "Failed, getal is 29\n"
     ]
    }
   ],
   "source": [
    "from random import randint\n",
    "\n",
    "tries = 0\n",
    "ans = randint(0, 100)\n",
    "\n",
    "while tries < 5:\n",
    "    tries += 1\n",
    "    guess = int(input(\"Guess: \"))\n",
    "    if guess == ans:\n",
    "        print(\"Gefeliciteerd, correcte gok!\")\n",
    "        break\n",
    "    if guess < ans:\n",
    "        print(f\"Te klein, {5-tries} over\")\n",
    "    else:\n",
    "        print(f\"Te groot, {5-tries} over\")\n",
    "        \n",
    "if tries == 5:\n",
    "    print(f\"Failed, getal is {ans}\")\n"
   ]
  },
  {
   "cell_type": "code",
   "execution_count": null,
   "id": "cbc6df7a",
   "metadata": {},
   "outputs": [],
   "source": []
  }
 ],
 "metadata": {
  "kernelspec": {
   "display_name": "Python 3 (ipykernel)",
   "language": "python",
   "name": "python3"
  },
  "language_info": {
   "codemirror_mode": {
    "name": "ipython",
    "version": 3
   },
   "file_extension": ".py",
   "mimetype": "text/x-python",
   "name": "python",
   "nbconvert_exporter": "python",
   "pygments_lexer": "ipython3",
   "version": "3.11.5"
  }
 },
 "nbformat": 4,
 "nbformat_minor": 5
}
